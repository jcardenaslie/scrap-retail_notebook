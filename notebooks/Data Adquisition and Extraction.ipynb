{
 "cells": [
  {
   "cell_type": "markdown",
   "metadata": {},
   "source": [
    "## How to parse websites and navigate the DOM using BeautifulSoup"
   ]
  },
  {
   "cell_type": "code",
   "execution_count": 2,
   "metadata": {},
   "outputs": [],
   "source": [
    "import requests\n",
    "from bs4 import BeautifulSoup\n",
    "\n",
    "html = requests.get(\"http://localhost:8080/planets.html\").text\n",
    "soup = BeautifulSoup(html, \"lxml\")"
   ]
  },
  {
   "cell_type": "code",
   "execution_count": 3,
   "metadata": {},
   "outputs": [
    {
     "data": {
      "text/plain": [
       "'<html>\\n<head>\\n</head>\\n<body>\\n<div id=\"planets\">\\n<h1>Planetary data</h1>\\n<div id=\"content\">Here are some interesting facts about the planets in our solar system</div>\\n<p></p>\\n<table border=\"1\" id=\"planetsTable\">\\n<tr id=\"planetHeader\">\\n<th>\\n</th>\\n<th>\\r\\n                    Name\\r\\n                </th>\\n<th>\\r\\n                    Mass (10^24kg)\\r\\n                </th>\\n<th>\\r\\n                    Diameter (km)\\r\\n                </th>\\n<th>\\r\\n                    How it got its Name\\r\\n                </th>\\n<th>\\r\\n                    More Info\\r\\n                </th>\\n</tr>\\n<tr class=\"planet\" id=\"planet1\" name=\"Mercury\">\\n<td>\\n<img src=\"img/mercury-150x150.png\"/>\\n</td>\\n<td>\\r\\n                    Mercury\\r\\n                </td>\\n<td>\\r\\n                    0.330\\r\\n                </td>\\n<td>\\r\\n                    4879\\r\\n                </td>\\n<td>Named Mercurius by the Romans because it appears to move so swiftly.</td>\\n<td>\\n<a href=\"https://en.wikipedia.org/wiki/Mercury_(planet)\">Wikipedia</a>\\n</td>\\n</tr>\\n<tr class=\"p'"
      ]
     },
     "execution_count": 3,
     "metadata": {},
     "output_type": "execute_result"
    }
   ],
   "source": [
    "str(soup)[:1000]"
   ]
  },
  {
   "cell_type": "code",
   "execution_count": 5,
   "metadata": {},
   "outputs": [
    {
     "data": {
      "text/plain": [
       "'<table border=\"1\" id=\"planetsTable\">\\n<tr id=\"planetHeader\">\\n<th>\\n</th>\\n<th>\\r\\n                    Name\\r\\n                </th>\\n<th>\\r\\n                    Mass (10^24kg)\\r\\n                </th>\\n<th>\\r\\n     '"
      ]
     },
     "execution_count": 5,
     "metadata": {},
     "output_type": "execute_result"
    }
   ],
   "source": [
    "str(soup.html.body.div.table)[:200]"
   ]
  },
  {
   "cell_type": "code",
   "execution_count": 7,
   "metadata": {},
   "outputs": [
    {
     "data": {
      "text/plain": [
       "<tr id=\"planetHeader\">\n",
       "<th>\n",
       "</th>\n",
       "<th>\n",
       "                    Name\n",
       "                </th>\n",
       "<th>\n",
       "                    Mass (10^24kg)\n",
       "                </th>\n",
       "<th>\n",
       "                    Diameter (km)\n",
       "                </th>\n",
       "<th>\n",
       "                    How it got its Name\n",
       "                </th>\n",
       "<th>\n",
       "                    More Info\n",
       "                </th>\n",
       "</tr>"
      ]
     },
     "execution_count": 7,
     "metadata": {},
     "output_type": "execute_result"
    }
   ],
   "source": [
    "soup.html.body.div.table.tr"
   ]
  },
  {
   "cell_type": "code",
   "execution_count": 9,
   "metadata": {},
   "outputs": [
    {
     "data": {
      "text/plain": [
       "<list_iterator at 0x1dfc2ef72c8>"
      ]
     },
     "execution_count": 9,
     "metadata": {},
     "output_type": "execute_result"
    }
   ],
   "source": [
    "soup.html.body.div.table.children"
   ]
  },
  {
   "cell_type": "code",
   "execution_count": 11,
   "metadata": {},
   "outputs": [
    {
     "data": {
      "text/plain": [
       "['\\n',\n",
       " '<tr id=\"planetHeader\">\\n<th>\\n</th>\\n<th>\\r\\n     ',\n",
       " '\\n',\n",
       " '<tr class=\"planet\" id=\"planet1\" name=\"Mercury',\n",
       " '\\n',\n",
       " '<tr class=\"planet\" id=\"planet2\" name=\"Venus\">',\n",
       " '\\n',\n",
       " '<tr class=\"planet\" id=\"planet3\" name=\"Earth\">',\n",
       " '\\n',\n",
       " '<tr class=\"planet\" id=\"planet4\" name=\"Mars\">\\n',\n",
       " '\\n',\n",
       " '<tr class=\"planet\" id=\"planet5\" name=\"Jupiter',\n",
       " '\\n',\n",
       " '<tr class=\"planet\" id=\"planet6\" name=\"Saturn\"',\n",
       " '\\n',\n",
       " '<tr class=\"planet\" id=\"planet7\" name=\"Uranus\"',\n",
       " '\\n',\n",
       " '<tr class=\"planet\" id=\"planet8\" name=\"Neptune',\n",
       " '\\n',\n",
       " '<tr class=\"planet\" id=\"planet9\" name=\"Pluto\">',\n",
       " '\\n']"
      ]
     },
     "execution_count": 11,
     "metadata": {},
     "output_type": "execute_result"
    }
   ],
   "source": [
    "[str(c)[:45] for c in soup.html.body.div.table.children]"
   ]
  },
  {
   "cell_type": "code",
   "execution_count": 13,
   "metadata": {},
   "outputs": [
    {
     "data": {
      "text/plain": [
       "'<table border=\"1\" id=\"planetsTable\">\\n<tr id=\"planetHeader\">\\n<th>\\n</th>\\n<th>\\r\\n                    Name\\r\\n                </th>\\n<th>\\r\\n                    Mass (10^24kg)\\r\\n                </th>\\n<th>\\r\\n     '"
      ]
     },
     "execution_count": 13,
     "metadata": {},
     "output_type": "execute_result"
    }
   ],
   "source": [
    "str(soup.html.body.div.table.tr.parent)[:200]"
   ]
  },
  {
   "cell_type": "markdown",
   "metadata": {},
   "source": [
    "## Beautiful Soup's find methods"
   ]
  },
  {
   "cell_type": "code",
   "execution_count": 14,
   "metadata": {},
   "outputs": [],
   "source": [
    "import requests\n",
    "from bs4 import BeautifulSoup\n",
    "html = requests.get(\"http://localhost:8080/planets.html\").text\n",
    "soup = BeautifulSoup(html, \"lxml\")"
   ]
  },
  {
   "cell_type": "code",
   "execution_count": 16,
   "metadata": {},
   "outputs": [
    {
     "data": {
      "text/plain": [
       "'<table border=\"1\" id=\"planetsTable\">\\n<tr id=\"planetHeader\">\\n<th>\\n</th>\\n<th>\\r\\n                    Nam'"
      ]
     },
     "execution_count": 16,
     "metadata": {},
     "output_type": "execute_result"
    }
   ],
   "source": [
    "table = soup.find(\"table\")\n",
    "str(table)[:100]\n"
   ]
  },
  {
   "cell_type": "code",
   "execution_count": 20,
   "metadata": {},
   "outputs": [
    {
     "data": {
      "text/plain": [
       "['<tr id=\"planetHeader\">\\n<th>\\n</th>\\n<th>\\r\\n          ',\n",
       " '<tr class=\"planet\" id=\"planet1\" name=\"Mercury\">\\n<t',\n",
       " '<tr class=\"planet\" id=\"planet2\" name=\"Venus\">\\n<td>',\n",
       " '<tr class=\"planet\" id=\"planet3\" name=\"Earth\">\\n<td>',\n",
       " '<tr class=\"planet\" id=\"planet4\" name=\"Mars\">\\n<td>\\n',\n",
       " '<tr class=\"planet\" id=\"planet5\" name=\"Jupiter\">\\n<t',\n",
       " '<tr class=\"planet\" id=\"planet6\" name=\"Saturn\">\\n<td',\n",
       " '<tr class=\"planet\" id=\"planet7\" name=\"Uranus\">\\n<td',\n",
       " '<tr class=\"planet\" id=\"planet8\" name=\"Neptune\">\\n<t',\n",
       " '<tr class=\"planet\" id=\"planet9\" name=\"Pluto\">\\n<td>']"
      ]
     },
     "execution_count": 20,
     "metadata": {},
     "output_type": "execute_result"
    }
   ],
   "source": [
    "[str(tr)[:50] for tr in table.findAll(\"tr\")]"
   ]
  },
  {
   "cell_type": "code",
   "execution_count": 22,
   "metadata": {},
   "outputs": [
    {
     "data": {
      "text/plain": [
       "<tr class=\"planet\" id=\"planet3\" name=\"Earth\">\n",
       "<td>\n",
       "<img src=\"img/earth-150x150.png\"/>\n",
       "</td>\n",
       "<td>\n",
       "                    Earth\n",
       "                </td>\n",
       "<td>\n",
       "                    5.97\n",
       "                </td>\n",
       "<td>\n",
       "                    12756\n",
       "                </td>\n",
       "<td>\n",
       "                    The name Earth comes from the Indo-European base 'er,'which produced the Germanic noun 'ertho,' and ultimately German 'erde,'\n",
       "                    Dutch 'aarde,' Scandinavian 'jord,' and English 'earth.' Related forms include Greek 'eraze,' meaning\n",
       "                    'on the ground,' and Welsh 'erw,' meaning 'a piece of land.'\n",
       "                </td>\n",
       "<td>\n",
       "<a href=\"https://en.wikipedia.org/wiki/Earth\">Wikipedia</a>\n",
       "</td>\n",
       "</tr>"
      ]
     },
     "execution_count": 22,
     "metadata": {},
     "output_type": "execute_result"
    }
   ],
   "source": [
    "table.find(\"tr\", {\"id\": \"planet3\"})"
   ]
  },
  {
   "cell_type": "code",
   "execution_count": 24,
   "metadata": {},
   "outputs": [
    {
     "data": {
      "text/plain": [
       "{'Mercury': '0.330',\n",
       " 'Venus': '4.87',\n",
       " 'Earth': '5.97',\n",
       " 'Mars': '0.642',\n",
       " 'Jupiter': '1898',\n",
       " 'Saturn': '568',\n",
       " 'Uranus': '86.8',\n",
       " 'Neptune': '102',\n",
       " 'Pluto': '0.0146'}"
      ]
     },
     "execution_count": 24,
     "metadata": {},
     "output_type": "execute_result"
    }
   ],
   "source": [
    "items = dict()\n",
    "planet_rows = table.findAll(\"tr\", {\"class\": \"planet\"})\n",
    "\n",
    "for i in planet_rows:\n",
    "    tds = i.findAll(\"td\")\n",
    "    items[tds[1].text.strip()] = tds[2].text.strip()\n",
    "\n",
    "items"
   ]
  },
  {
   "cell_type": "markdown",
   "metadata": {},
   "source": [
    "## Querying the DOM with XPath and lxml"
   ]
  },
  {
   "cell_type": "code",
   "execution_count": 26,
   "metadata": {},
   "outputs": [],
   "source": [
    "from lxml import html\n",
    "import requests\n",
    "page_html = requests.get(\"http://localhost:8080/planets.html\").text"
   ]
  },
  {
   "cell_type": "code",
   "execution_count": 28,
   "metadata": {},
   "outputs": [],
   "source": [
    "tree = html.fromstring(page_html)"
   ]
  },
  {
   "cell_type": "code",
   "execution_count": 30,
   "metadata": {},
   "outputs": [
    {
     "data": {
      "text/plain": [
       "[<Element tr at 0x1dfc2f3be58>,\n",
       " <Element tr at 0x1dfc2f3bea8>,\n",
       " <Element tr at 0x1dfc2f3bef8>,\n",
       " <Element tr at 0x1dfc2f3bf48>,\n",
       " <Element tr at 0x1dfc2f3bf98>,\n",
       " <Element tr at 0x1dfc2f43048>,\n",
       " <Element tr at 0x1dfc2f43098>,\n",
       " <Element tr at 0x1dfc2f430e8>,\n",
       " <Element tr at 0x1dfc2f43138>,\n",
       " <Element tr at 0x1dfc2f43188>,\n",
       " <Element tr at 0x1dfc2f431d8>]"
      ]
     },
     "execution_count": 30,
     "metadata": {},
     "output_type": "execute_result"
    }
   ],
   "source": [
    "[tr for tr in tree.xpath(\"/html/body/div/table/tr\")]"
   ]
  },
  {
   "cell_type": "code",
   "execution_count": 33,
   "metadata": {},
   "outputs": [
    {
     "data": {
      "text/plain": [
       "[b'<tr id=\"planetHeader\">&#13;\\n                <th>&#',\n",
       " b'<tr id=\"planet1\" class=\"planet\" name=\"Mercury\">&#1',\n",
       " b'<tr id=\"planet2\" class=\"planet\" name=\"Venus\">&#13;',\n",
       " b'<tr id=\"planet3\" class=\"planet\" name=\"Earth\">&#13;',\n",
       " b'<tr id=\"planet4\" class=\"planet\" name=\"Mars\">&#13;\\n',\n",
       " b'<tr id=\"planet5\" class=\"planet\" name=\"Jupiter\">&#1',\n",
       " b'<tr id=\"planet6\" class=\"planet\" name=\"Saturn\">&#13',\n",
       " b'<tr id=\"planet7\" class=\"planet\" name=\"Uranus\">&#13',\n",
       " b'<tr id=\"planet8\" class=\"planet\" name=\"Neptune\">&#1',\n",
       " b'<tr id=\"planet9\" class=\"planet\" name=\"Pluto\">&#13;',\n",
       " b'<tr id=\"footerRow\">&#13;\\n                <td>&#13;']"
      ]
     },
     "execution_count": 33,
     "metadata": {},
     "output_type": "execute_result"
    }
   ],
   "source": [
    "from lxml import etree\n",
    "\n",
    "[etree.tostring(tr)[:50] for tr in tree.xpath(\"/html/body/div/table/tr\")]"
   ]
  },
  {
   "cell_type": "code",
   "execution_count": 34,
   "metadata": {},
   "outputs": [
    {
     "data": {
      "text/plain": [
       "[b'<tr id=\"planet1\" class=\"planet\" name=\"Mercury\">&#1',\n",
       " b'<tr id=\"planet2\" class=\"planet\" name=\"Venus\">&#13;',\n",
       " b'<tr id=\"planet3\" class=\"planet\" name=\"Earth\">&#13;',\n",
       " b'<tr id=\"planet4\" class=\"planet\" name=\"Mars\">&#13;\\n',\n",
       " b'<tr id=\"planet5\" class=\"planet\" name=\"Jupiter\">&#1',\n",
       " b'<tr id=\"planet6\" class=\"planet\" name=\"Saturn\">&#13',\n",
       " b'<tr id=\"planet7\" class=\"planet\" name=\"Uranus\">&#13',\n",
       " b'<tr id=\"planet8\" class=\"planet\" name=\"Neptune\">&#1',\n",
       " b'<tr id=\"planet9\" class=\"planet\" name=\"Pluto\">&#13;']"
      ]
     },
     "execution_count": 34,
     "metadata": {},
     "output_type": "execute_result"
    }
   ],
   "source": [
    "[etree.tostring(tr)[:50] for tr in tree.xpath(\"/html/body/div/table/tr[@class='planet']\")]"
   ]
  },
  {
   "cell_type": "code",
   "execution_count": 35,
   "metadata": {},
   "outputs": [
    {
     "data": {
      "text/plain": [
       "[b'<tr id=\"planetHeader\">&#13;\\n                <th>&#',\n",
       " b'<tr id=\"planet1\" class=\"planet\" name=\"Mercury\">&#1',\n",
       " b'<tr id=\"planet2\" class=\"planet\" name=\"Venus\">&#13;',\n",
       " b'<tr id=\"planet3\" class=\"planet\" name=\"Earth\">&#13;',\n",
       " b'<tr id=\"planet4\" class=\"planet\" name=\"Mars\">&#13;\\n',\n",
       " b'<tr id=\"planet5\" class=\"planet\" name=\"Jupiter\">&#1',\n",
       " b'<tr id=\"planet6\" class=\"planet\" name=\"Saturn\">&#13',\n",
       " b'<tr id=\"planet7\" class=\"planet\" name=\"Uranus\">&#13',\n",
       " b'<tr id=\"planet8\" class=\"planet\" name=\"Neptune\">&#1',\n",
       " b'<tr id=\"planet9\" class=\"planet\" name=\"Pluto\">&#13;']"
      ]
     },
     "execution_count": 35,
     "metadata": {},
     "output_type": "execute_result"
    }
   ],
   "source": [
    "[etree.tostring(tr)[:50] for tr in tree.xpath(\"/html/body/div[1]/table/tr\")]"
   ]
  },
  {
   "cell_type": "code",
   "execution_count": 36,
   "metadata": {},
   "outputs": [
    {
     "data": {
      "text/plain": [
       "[b'<tr id=\"footerRow\">&#13;\\n                <td>&#13;']"
      ]
     },
     "execution_count": 36,
     "metadata": {},
     "output_type": "execute_result"
    }
   ],
   "source": [
    "[etree.tostring(tr)[:50] for tr in tree.xpath(\"/html/body/div[2]/table/tr\")]"
   ]
  },
  {
   "cell_type": "code",
   "execution_count": 37,
   "metadata": {},
   "outputs": [
    {
     "data": {
      "text/plain": [
       "[b'<tr id=\"planetHeader\">&#13;\\n                <th>&#',\n",
       " b'<tr id=\"planet1\" class=\"planet\" name=\"Mercury\">&#1',\n",
       " b'<tr id=\"planet2\" class=\"planet\" name=\"Venus\">&#13;',\n",
       " b'<tr id=\"planet3\" class=\"planet\" name=\"Earth\">&#13;',\n",
       " b'<tr id=\"planet4\" class=\"planet\" name=\"Mars\">&#13;\\n',\n",
       " b'<tr id=\"planet5\" class=\"planet\" name=\"Jupiter\">&#1',\n",
       " b'<tr id=\"planet6\" class=\"planet\" name=\"Saturn\">&#13',\n",
       " b'<tr id=\"planet7\" class=\"planet\" name=\"Uranus\">&#13',\n",
       " b'<tr id=\"planet8\" class=\"planet\" name=\"Neptune\">&#1',\n",
       " b'<tr id=\"planet9\" class=\"planet\" name=\"Pluto\">&#13;']"
      ]
     },
     "execution_count": 37,
     "metadata": {},
     "output_type": "execute_result"
    }
   ],
   "source": [
    "[etree.tostring(tr)[:50] for tr in tree.xpath(\"/html/body/div[@id='planets']/table/tr\")]"
   ]
  },
  {
   "cell_type": "code",
   "execution_count": 38,
   "metadata": {},
   "outputs": [
    {
     "data": {
      "text/plain": [
       "[b'<tr id=\"planet1\" class=\"planet\" name=\"Mercury\">&#1',\n",
       " b'<tr id=\"planet2\" class=\"planet\" name=\"Venus\">&#13;',\n",
       " b'<tr id=\"planet3\" class=\"planet\" name=\"Earth\">&#13;',\n",
       " b'<tr id=\"planet4\" class=\"planet\" name=\"Mars\">&#13;\\n',\n",
       " b'<tr id=\"planet5\" class=\"planet\" name=\"Jupiter\">&#1',\n",
       " b'<tr id=\"planet6\" class=\"planet\" name=\"Saturn\">&#13',\n",
       " b'<tr id=\"planet7\" class=\"planet\" name=\"Uranus\">&#13',\n",
       " b'<tr id=\"planet8\" class=\"planet\" name=\"Neptune\">&#1',\n",
       " b'<tr id=\"planet9\" class=\"planet\" name=\"Pluto\">&#13;']"
      ]
     },
     "execution_count": 38,
     "metadata": {},
     "output_type": "execute_result"
    }
   ],
   "source": [
    "[etree.tostring(tr)[:50] for tr in tree.xpath(\"/html/body/div[@id='planets']/table/tr[position() > 1]\")]"
   ]
  },
  {
   "cell_type": "code",
   "execution_count": 39,
   "metadata": {},
   "outputs": [
    {
     "data": {
      "text/plain": [
       "[b'<table id=\"planetsTable\" border=\"1\">&#13;\\n        ',\n",
       " b'<table id=\"footerTable\">&#13;\\n            <tr id=\"']"
      ]
     },
     "execution_count": 39,
     "metadata": {},
     "output_type": "execute_result"
    }
   ],
   "source": [
    "[etree.tostring(tr)[:50] for tr in tree.xpath(\"/html/body/div/table/tr/parent::*\")]"
   ]
  },
  {
   "cell_type": "code",
   "execution_count": 40,
   "metadata": {},
   "outputs": [
    {
     "data": {
      "text/plain": [
       "[b'<table id=\"planetsTable\" border=\"1\">&#13;\\n        ',\n",
       " b'<table id=\"footerTable\">&#13;\\n            <tr id=\"']"
      ]
     },
     "execution_count": 40,
     "metadata": {},
     "output_type": "execute_result"
    }
   ],
   "source": [
    "[etree.tostring(tr)[:50] for tr in tree.xpath(\"/html/body/div/table/tr/parent::table\")]"
   ]
  },
  {
   "cell_type": "code",
   "execution_count": 41,
   "metadata": {},
   "outputs": [
    {
     "data": {
      "text/plain": [
       "[b'<table id=\"footerTable\">&#13;\\n            <tr id=\"']"
      ]
     },
     "execution_count": 41,
     "metadata": {},
     "output_type": "execute_result"
    }
   ],
   "source": [
    "[etree.tostring(tr)[:50] for tr in tree.xpath(\"/html/body/div/table/tr/parent::table[@id='footerTable']\")]"
   ]
  },
  {
   "cell_type": "code",
   "execution_count": 42,
   "metadata": {},
   "outputs": [
    {
     "data": {
      "text/plain": [
       "[b'<table id=\"planetsTable\" border=\"1\">&#13;\\n        ',\n",
       " b'<table id=\"footerTable\">&#13;\\n            <tr id=\"']"
      ]
     },
     "execution_count": 42,
     "metadata": {},
     "output_type": "execute_result"
    }
   ],
   "source": [
    "#A shortcut for parent is .. (and . also represents the current node):\n",
    "[etree.tostring(tr)[:50] for tr in tree.xpath(\"/html/body/div/table/tr/..\")]"
   ]
  },
  {
   "cell_type": "code",
   "execution_count": 44,
   "metadata": {},
   "outputs": [
    {
     "data": {
      "text/plain": [
       "'5.97'"
      ]
     },
     "execution_count": 44,
     "metadata": {},
     "output_type": "execute_result"
    }
   ],
   "source": [
    "#The trailing portion of this XPath,/td[3]/text()[1], \n",
    "#selects the third <td> element in the row, \n",
    "#then the text of that element (which is an array of all the text in the element), \n",
    "#and the first of those which is the mass.\n",
    "\n",
    "mass = tree.xpath(\"/html/body/div[1]/table/tr[@name='Earth']/td[3]/text()[1]\")[0].strip()\n",
    "mass"
   ]
  },
  {
   "cell_type": "markdown",
   "metadata": {},
   "source": [
    "## Querying data with XPath and CSS selectors"
   ]
  },
  {
   "cell_type": "code",
   "execution_count": 45,
   "metadata": {},
   "outputs": [],
   "source": [
    "# Let's start examining CSS selectors using the same start up code we used in the last recipe\n",
    "from lxml import html\n",
    "import requests\n",
    "page_html = requests.get(\"http://localhost:8080/planets.html\").text\n",
    "tree = html.fromstring(page_html)"
   ]
  },
  {
   "cell_type": "code",
   "execution_count": 46,
   "metadata": {},
   "outputs": [
    {
     "data": {
      "text/plain": [
       "[(<Element tr at 0x1dfc2f4edb8>, ['Mercury']),\n",
       " (<Element tr at 0x1dfc2f57228>, ['Venus']),\n",
       " (<Element tr at 0x1dfc2f575e8>, ['Earth']),\n",
       " (<Element tr at 0x1dfc2f57408>, ['Mars']),\n",
       " (<Element tr at 0x1dfc2f64c78>, ['Jupiter']),\n",
       " (<Element tr at 0x1dfc2f64cc8>, ['Saturn']),\n",
       " (<Element tr at 0x1dfc2f64d18>, ['Uranus']),\n",
       " (<Element tr at 0x1dfc2f64d68>, ['Neptune']),\n",
       " (<Element tr at 0x1dfc2f64db8>, ['Pluto'])]"
      ]
     },
     "execution_count": 46,
     "metadata": {},
     "output_type": "execute_result"
    }
   ],
   "source": [
    "[(v, v.xpath(\"@name\")) for v in tree.cssselect('tr.planet')]"
   ]
  },
  {
   "cell_type": "code",
   "execution_count": 48,
   "metadata": {},
   "outputs": [
    {
     "data": {
      "text/plain": [
       "(<Element tr at 0x1dfc2f575e8>, 'Earth')"
      ]
     },
     "execution_count": 48,
     "metadata": {},
     "output_type": "execute_result"
    }
   ],
   "source": [
    "# Data for the Earth can be found in several ways. \n",
    "# The following gets the row based on id:\n",
    "tr = tree.cssselect(\"tr#planet3\")\n",
    "tr[0], tr[0].xpath(\"./td[2]/text()\")[0].strip()\n"
   ]
  },
  {
   "cell_type": "code",
   "execution_count": 49,
   "metadata": {},
   "outputs": [
    {
     "data": {
      "text/plain": [
       "(<Element tr at 0x1dfc2f64db8>, 'Pluto')"
      ]
     },
     "execution_count": 49,
     "metadata": {},
     "output_type": "execute_result"
    }
   ],
   "source": [
    "# The following uses an attribute with a specific value:\n",
    "tr = tree.cssselect(\"tr[name='Pluto']\")\n",
    "tr[0], tr[0].xpath(\"td[2]/text()\")[0].strip()"
   ]
  },
  {
   "cell_type": "markdown",
   "metadata": {},
   "source": [
    "Because CSS selectors utilize XPath under the covers, there is overhead to its use as compared to using XPath directly. This difference is, however, almost a non-issue, and hence in certain scenarios it is easier to just use cssselect.\n",
    "\n",
    "A full description of CSS selectors can be found at: https://www.w3.org/TR/2011/REC-css3-selectors-20110929/"
   ]
  },
  {
   "cell_type": "markdown",
   "metadata": {},
   "source": [
    "## Using Scrapy selectors"
   ]
  },
  {
   "cell_type": "code",
   "execution_count": 50,
   "metadata": {},
   "outputs": [],
   "source": [
    "from scrapy.selector import Selector\n",
    "import requests"
   ]
  },
  {
   "cell_type": "code",
   "execution_count": 51,
   "metadata": {},
   "outputs": [],
   "source": [
    "response = requests.get(\"http://stackoverflow.com/questions\")"
   ]
  },
  {
   "cell_type": "code",
   "execution_count": 53,
   "metadata": {},
   "outputs": [
    {
     "data": {
      "text/plain": [
       "<Selector xpath=None data='<html class=\"html__responsive\">\\r\\n\\r\\n  ...'>"
      ]
     },
     "execution_count": 53,
     "metadata": {},
     "output_type": "execute_result"
    }
   ],
   "source": [
    "selector = Selector(response)\n",
    "selector"
   ]
  },
  {
   "cell_type": "code",
   "execution_count": 55,
   "metadata": {},
   "outputs": [
    {
     "data": {
      "text/plain": [
       "[<Selector xpath='//div[@class=\"summary\"]/h3' data='<h3><a href=\"/questions/60679040/inte...'>,\n",
       " <Selector xpath='//div[@class=\"summary\"]/h3' data='<h3><a href=\"/questions/60679039/expo...'>,\n",
       " <Selector xpath='//div[@class=\"summary\"]/h3' data='<h3><a href=\"/questions/60679035/auto...'>,\n",
       " <Selector xpath='//div[@class=\"summary\"]/h3' data='<h3><a href=\"/questions/60679031/pass...'>,\n",
       " <Selector xpath='//div[@class=\"summary\"]/h3' data='<h3><a href=\"/questions/60679029/cart...'>]"
      ]
     },
     "execution_count": 55,
     "metadata": {},
     "output_type": "execute_result"
    }
   ],
   "source": [
    "summaries = selector.xpath('//div[@class=\"summary\"]/h3')\n",
    "summaries[0:5]"
   ]
  },
  {
   "cell_type": "code",
   "execution_count": 56,
   "metadata": {},
   "outputs": [
    {
     "data": {
      "text/plain": [
       "['Interface to extend or function to create similar types',\n",
       " 'Expose Objc private headers to unit tests written in Swift',\n",
       " 'Autofill blank required fields in Django admin before save and before validation',\n",
       " 'Passing a templated class to the constructor of another templated class with default values for template arguments',\n",
       " \"Cartopy: Can't plot vector field with uncertainties (and related questions)\",\n",
       " 'Code expression like {{ $title }} cause blank page in Laravel',\n",
       " 'Python with same class name in same file?',\n",
       " 'Recaptcha Handling Throwing Exception Inside Promise with catch',\n",
       " 'copy selected file from an input on electron app form',\n",
       " 'Stacking multiple columns in R']"
      ]
     },
     "execution_count": 56,
     "metadata": {},
     "output_type": "execute_result"
    }
   ],
   "source": [
    "[x.extract() for x in summaries.xpath('a[@class=\"question-hyperlink\"]/text()')][:10]"
   ]
  },
  {
   "cell_type": "markdown",
   "metadata": {},
   "source": [
    "To learn more about Scrapy Selectors see: https://doc.scrapy.org/en/latest/topics/selectors.html."
   ]
  },
  {
   "cell_type": "markdown",
   "metadata": {},
   "source": [
    "## Loading data in unicode / UTF-8"
   ]
  },
  {
   "cell_type": "code",
   "execution_count": 58,
   "metadata": {},
   "outputs": [
    {
     "data": {
      "text/plain": [
       "b'><strong>Cyrillic</strong> &nbsp; U+0400 \\xe2\\x80\\x93 U+04FF &nbsp; (1024\\xe2\\x80\\x931279)</p>\\n    <table class=\"unicode\">\\n        <tbody>\\n            <tr valign=\"top\">\\n                <td width=\"50\">&nbsp;</td>\\n                <td class=\"b\" width=\"50\">\\xd0\\x89</td>\\n                <td class=\"b\" width=\"50\">\\xd0\\xa9</td>\\n                <td class=\"b\" width=\"50\">\\xd1\\x89</td>\\n                <td class=\"b\" width=\"50\">\\xd3\\x83</td>\\n            </tr>\\n        </tbody>\\n    </table>\\n\\n '"
      ]
     },
     "execution_count": 58,
     "metadata": {},
     "output_type": "execute_result"
    }
   ],
   "source": [
    "#Note how the Cyrillic characters were read in as multi-byte codes \n",
    "# using \\ notation, such as \\xd0\\x89\n",
    "\n",
    "from urllib.request import urlopen\n",
    "page = urlopen(\"http://localhost:8080/unicode.html\")\n",
    "content = page.read()\n",
    "content[840:1280]\n"
   ]
  },
  {
   "cell_type": "code",
   "execution_count": 59,
   "metadata": {},
   "outputs": [
    {
     "data": {
      "text/plain": [
       "'<strong>Cyrillic</strong> &nbsp; U+0400 – U+04FF &nbsp; (1024–1279)</p>\\n    <table class=\"unicode\">\\n        <tbody>\\n            <tr valign=\"top\">\\n                <td width=\"50\">&nbsp;</td>\\n                <td class=\"b\" width=\"50\">Љ</td>\\n                <td class=\"b\" width=\"50\">Щ</td>\\n                <td class=\"b\" width=\"50\">щ</td>\\n                <td class=\"b\" width=\"50\">Ӄ</td>\\n            </tr>\\n        </tbody>\\n    </table>\\n\\n   '"
      ]
     },
     "execution_count": 59,
     "metadata": {},
     "output_type": "execute_result"
    }
   ],
   "source": [
    "# To rectify this, we can convert the content to UTF-8 format \n",
    "# using the Python str statement:\n",
    "\n",
    "str(content, \"utf-8\")[837:1270]"
   ]
  },
  {
   "cell_type": "code",
   "execution_count": 61,
   "metadata": {},
   "outputs": [
    {
     "data": {
      "text/plain": [
       "' <p><strong>Cyrillic</strong> &nbsp; U+0400 â\\x80\\x93 U+04FF &nbsp; (1024â\\x80\\x931279)</p>\\n    <table class=\"unicode\">\\n        <tbody>\\n            <tr valign=\"top\">\\n                <td width=\"50\">&nbsp;</td>\\n                <td class=\"b\" width=\"50\">Ð\\x89</td>\\n                <td class=\"b\" width=\"50\">Ð©</td>\\n                <td class=\"b\" width=\"50\">Ñ\\x89</td>\\n                <td class=\"b\" width=\"50\">Ó\\x83</td>\\n            </tr>\\n        </tbody>\\n    <'"
      ]
     },
     "execution_count": 61,
     "metadata": {},
     "output_type": "execute_result"
    }
   ],
   "source": [
    "import requests\n",
    "response = requests.get(\"http://localhost:8080/unicode.html\").text\n",
    "response[837:1270]"
   ]
  },
  {
   "cell_type": "raw",
   "metadata": {},
   "source": [
    "In the case of using urlopen, the conversion was explicitly performed by using the str statement and specifying that the content should be converted to UTF-8. For requests, the library was able to determine from the content within the HTML that it was in UTF-8 format by seeing the following tag in the document:\n",
    "\n",
    "\"<meta http-equiv=\"Content-Type\" content=\"text/html; charset=UTF-8\">\""
   ]
  },
  {
   "cell_type": "code",
   "execution_count": null,
   "metadata": {},
   "outputs": [],
   "source": []
  }
 ],
 "metadata": {
  "kernelspec": {
   "display_name": "Python 3",
   "language": "python",
   "name": "python3"
  },
  "language_info": {
   "codemirror_mode": {
    "name": "ipython",
    "version": 3
   },
   "file_extension": ".py",
   "mimetype": "text/x-python",
   "name": "python",
   "nbconvert_exporter": "python",
   "pygments_lexer": "ipython3",
   "version": "3.7.4"
  }
 },
 "nbformat": 4,
 "nbformat_minor": 2
}
