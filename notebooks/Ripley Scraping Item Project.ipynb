{
 "cells": [
  {
   "cell_type": "code",
   "execution_count": 28,
   "metadata": {},
   "outputs": [],
   "source": [
    "def scrap(url):\n",
    "    html = requests.get(url).text\n",
    "    \n",
    "    soup = BeautifulSoup(html, \"lxml\")\n",
    "    \n",
    "    script = soup.find(\"script\",{\"type\": \"application/ld+json\"})\n",
    "\n",
    "    try:\n",
    "        items = json.loads(script.text.rstrip('\\n'))\n",
    "    except:\n",
    "        return dict()\n",
    "    \n",
    "    return items\n",
    "\n",
    "def addToDict(items):\n",
    "    item_list = list()\n",
    "\n",
    "    for item in items:\n",
    "        i = list()\n",
    "        i.append(item['item']['sku'])\n",
    "        i.append(item['item']['name'])\n",
    "        i.append(item['item']['brand'])\n",
    "        i.append(item['item']['offers']['price'])\n",
    "        i.append(item['item']['image'])\n",
    "        i.append(item['item']['url'])\n",
    "        item_list.append(i)\n",
    "    \n",
    "    return item_list\n",
    "\n",
    "def processScrapResults(items):    \n",
    "    if isinstance(items, type(dict)):\n",
    "        return list(), \"\"\n",
    "    if not bool(items):\n",
    "        return list(), \"\"\n",
    "    if len(items.keys()) <= 0:\n",
    "        return list(), \"\"\n",
    "        \n",
    "    url_redirect = items['url']\n",
    "    \n",
    "    item_list = addToDict(items[\"itemListElement\"])\n",
    "    \n",
    "    print(len(item_list))\n",
    "        \n",
    "    return item_list, url_redirect"
   ]
  },
  {
   "cell_type": "code",
   "execution_count": 42,
   "metadata": {},
   "outputs": [
    {
     "name": "stdout",
     "output_type": "stream",
     "text": [
      "Search:  https://simple.ripley.cl/search/comoda\n",
      "24\n",
      "Search:  http://simple.ripley.cl/dormitorio/muebles-de-dormitorio/comoda-y-tocadores?source=search&term=comoda&page=2\n",
      "24\n",
      "Search:  http://simple.ripley.cl/dormitorio/muebles-de-dormitorio/comoda-y-tocadores?page=3&source=search&term=comoda\n",
      "24\n",
      "Search:  http://simple.ripley.cl/dormitorio/muebles-de-dormitorio/comoda-y-tocadores?page=4&source=search&term=comoda\n",
      "24\n",
      "Search:  http://simple.ripley.cl/dormitorio/muebles-de-dormitorio/comoda-y-tocadores?page=5&source=search&term=comoda\n",
      "24\n",
      "Search:  http://simple.ripley.cl/dormitorio/muebles-de-dormitorio/comoda-y-tocadores?page=6&source=search&term=comoda\n",
      "24\n",
      "Search:  http://simple.ripley.cl/dormitorio/muebles-de-dormitorio/comoda-y-tocadores?page=7&source=search&term=comoda\n",
      "24\n",
      "Search:  http://simple.ripley.cl/dormitorio/muebles-de-dormitorio/comoda-y-tocadores?page=8&source=search&term=comoda\n"
     ]
    }
   ],
   "source": [
    "import requests\n",
    "from bs4 import BeautifulSoup\n",
    "import json\n",
    "\n",
    "search_term = \"comoda\"\n",
    "url = \"https://simple.ripley.cl/search/\" + search_term\n",
    "\n",
    "items = list()\n",
    "\n",
    "for value in range (1,20):     \n",
    "    \n",
    "    print(\"Search: \", url)\n",
    "    \n",
    "    scraped_items, url = (processScrapResults(scrap(url)))\n",
    "    \n",
    "    if len(url) <= 0:\n",
    "        break\n",
    "    \n",
    "    if value == 1:\n",
    "        url = url + \"&page=2\"\n",
    "    elif value > 1:\n",
    "        urlToken = url.split('?')\n",
    "        params = urlToken[1].split('&')\n",
    "        params[0] = params[0][:-1]\n",
    "        url = urlToken[0] + '?' + str(params[0]) + str(value+1) + \"\".join([\"&\"+param for param in params[1:]])\n",
    "        \n",
    "    \n",
    "    items.extend(scraped_items)\n",
    "    \n"
   ]
  },
  {
   "cell_type": "code",
   "execution_count": 47,
   "metadata": {},
   "outputs": [
    {
     "data": {
      "text/plain": [
       "168"
      ]
     },
     "execution_count": 47,
     "metadata": {},
     "output_type": "execute_result"
    }
   ],
   "source": [
    "len(items)"
   ]
  },
  {
   "cell_type": "code",
   "execution_count": 44,
   "metadata": {},
   "outputs": [],
   "source": [
    "import pandas as pd\n",
    "df = pd.DataFrame(items)"
   ]
  },
  {
   "cell_type": "code",
   "execution_count": 50,
   "metadata": {},
   "outputs": [
    {
     "data": {
      "text/html": [
       "<div>\n",
       "<style scoped>\n",
       "    .dataframe tbody tr th:only-of-type {\n",
       "        vertical-align: middle;\n",
       "    }\n",
       "\n",
       "    .dataframe tbody tr th {\n",
       "        vertical-align: top;\n",
       "    }\n",
       "\n",
       "    .dataframe thead th {\n",
       "        text-align: right;\n",
       "    }\n",
       "</style>\n",
       "<table border=\"1\" class=\"dataframe\">\n",
       "  <thead>\n",
       "    <tr style=\"text-align: right;\">\n",
       "      <th></th>\n",
       "      <th>0</th>\n",
       "      <th>1</th>\n",
       "      <th>2</th>\n",
       "      <th>3</th>\n",
       "      <th>4</th>\n",
       "      <th>5</th>\n",
       "    </tr>\n",
       "  </thead>\n",
       "  <tbody>\n",
       "    <tr>\n",
       "      <td>count</td>\n",
       "      <td>168</td>\n",
       "      <td>168</td>\n",
       "      <td>168</td>\n",
       "      <td>168</td>\n",
       "      <td>168</td>\n",
       "      <td>168</td>\n",
       "    </tr>\n",
       "    <tr>\n",
       "      <td>unique</td>\n",
       "      <td>168</td>\n",
       "      <td>146</td>\n",
       "      <td>19</td>\n",
       "      <td>52</td>\n",
       "      <td>168</td>\n",
       "      <td>168</td>\n",
       "    </tr>\n",
       "    <tr>\n",
       "      <td>top</td>\n",
       "      <td>2000373881488P</td>\n",
       "      <td>SET MUEBLES DORMITORIO TUHOME KAIA WENGUE / MIEL</td>\n",
       "      <td>TUHOME</td>\n",
       "      <td>79990</td>\n",
       "      <td>//home.ripley.cl/store/Attachment/WOP/D360/200...</td>\n",
       "      <td>http://simple.ripley.cl/dormitorio/muebles-de-...</td>\n",
       "    </tr>\n",
       "    <tr>\n",
       "      <td>freq</td>\n",
       "      <td>1</td>\n",
       "      <td>10</td>\n",
       "      <td>42</td>\n",
       "      <td>19</td>\n",
       "      <td>1</td>\n",
       "      <td>1</td>\n",
       "    </tr>\n",
       "  </tbody>\n",
       "</table>\n",
       "</div>"
      ],
      "text/plain": [
       "                     0                                                 1  \\\n",
       "count              168                                               168   \n",
       "unique             168                                               146   \n",
       "top     2000373881488P  SET MUEBLES DORMITORIO TUHOME KAIA WENGUE / MIEL   \n",
       "freq                 1                                                10   \n",
       "\n",
       "             2      3                                                  4  \\\n",
       "count      168    168                                                168   \n",
       "unique      19     52                                                168   \n",
       "top     TUHOME  79990  //home.ripley.cl/store/Attachment/WOP/D360/200...   \n",
       "freq        42     19                                                  1   \n",
       "\n",
       "                                                        5  \n",
       "count                                                 168  \n",
       "unique                                                168  \n",
       "top     http://simple.ripley.cl/dormitorio/muebles-de-...  \n",
       "freq                                                    1  "
      ]
     },
     "execution_count": 50,
     "metadata": {},
     "output_type": "execute_result"
    }
   ],
   "source": [
    "df.describe()"
   ]
  },
  {
   "cell_type": "code",
   "execution_count": 45,
   "metadata": {},
   "outputs": [
    {
     "data": {
      "text/html": [
       "<div>\n",
       "<style scoped>\n",
       "    .dataframe tbody tr th:only-of-type {\n",
       "        vertical-align: middle;\n",
       "    }\n",
       "\n",
       "    .dataframe tbody tr th {\n",
       "        vertical-align: top;\n",
       "    }\n",
       "\n",
       "    .dataframe thead th {\n",
       "        text-align: right;\n",
       "    }\n",
       "</style>\n",
       "<table border=\"1\" class=\"dataframe\">\n",
       "  <thead>\n",
       "    <tr style=\"text-align: right;\">\n",
       "      <th></th>\n",
       "      <th>0</th>\n",
       "      <th>1</th>\n",
       "      <th>2</th>\n",
       "      <th>3</th>\n",
       "      <th>4</th>\n",
       "      <th>5</th>\n",
       "    </tr>\n",
       "  </thead>\n",
       "  <tbody>\n",
       "  </tbody>\n",
       "</table>\n",
       "</div>"
      ],
      "text/plain": [
       "Empty DataFrame\n",
       "Columns: [0, 1, 2, 3, 4, 5]\n",
       "Index: []"
      ]
     },
     "execution_count": 45,
     "metadata": {},
     "output_type": "execute_result"
    }
   ],
   "source": [
    "df[df.duplicated()]"
   ]
  },
  {
   "cell_type": "code",
   "execution_count": null,
   "metadata": {},
   "outputs": [],
   "source": []
  }
 ],
 "metadata": {
  "kernelspec": {
   "display_name": "Python 3",
   "language": "python",
   "name": "python3"
  },
  "language_info": {
   "codemirror_mode": {
    "name": "ipython",
    "version": 3
   },
   "file_extension": ".py",
   "mimetype": "text/x-python",
   "name": "python",
   "nbconvert_exporter": "python",
   "pygments_lexer": "ipython3",
   "version": "3.7.4"
  }
 },
 "nbformat": 4,
 "nbformat_minor": 2
}
