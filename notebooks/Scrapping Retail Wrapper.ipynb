{
 "cells": [
  {
   "cell_type": "markdown",
   "metadata": {},
   "source": [
    "# Scrapping Retail Wrapper"
   ]
  },
  {
   "cell_type": "markdown",
   "metadata": {},
   "source": [
    "## Retail Driver"
   ]
  },
  {
   "cell_type": "markdown",
   "metadata": {},
   "source": [
    "### Homy"
   ]
  },
  {
   "cell_type": "code",
   "execution_count": 39,
   "metadata": {},
   "outputs": [],
   "source": [
    "import requests\n",
    "from bs4 import BeautifulSoup\n",
    "import datetime\n",
    "import pandas as pd\n",
    "import re\n",
    "\n",
    "def scrap(url):\n",
    "    html = requests.get(url).text\n",
    "    soup = BeautifulSoup(html, \"lxml\")\n",
    "    \n",
    "    if soup is None:\n",
    "        return None\n",
    "    \n",
    "    return soup\n",
    "\n",
    "def getPrices(product_div):\n",
    "    \n",
    "    if product_div is None:\n",
    "        return None, None\n",
    "    prices = product_div.findAll(\"div\", {\"class\":\"price\"})\n",
    "    \n",
    "    precio_lista, precio_oferta = 0, 0\n",
    "    \n",
    "    if len(prices) == 1: \n",
    "        precio = int(\"\".join(re.findall(r'\\d', prices[0].text)))\n",
    "        precio_lista = precio\n",
    "        precio_oferta = precio\n",
    "    elif len(prices) > 1: \n",
    "        precio_lista = int(\"\".join(re.findall(r'\\d', prices[1].text)))\n",
    "        precio_oferta = int(\"\".join(re.findall(r'\\d', prices[0].text)))\n",
    "        \n",
    "    descuento = int((precio_lista - precio_oferta)/precio_lista*100)\n",
    "    \n",
    "    return precio_lista, precio_oferta, descuento\n",
    "\n",
    "def extractProduct(product_div):\n",
    "    \n",
    "    if product_div is None:\n",
    "        return None\n",
    "\n",
    "    product = dict()\n",
    "\n",
    "    product['tienda'] = 'Homy'\n",
    "    product['sku'] = product_div[\"data-key\"]\n",
    "    product['marca'] = product_div.find(\"div\", {\"class\":\"product-brand\"}).text\n",
    "    product['nombre'] = product_div.find(\"h2\", {\"class\":\"product-title\"}).text\n",
    "    \n",
    "    product['precio-lista'], product['precio-oferta'], product['descuento']  = getPrices(product_div)\n",
    "    \n",
    "    product['imagen'] = product_div.find(\"a\", {\"class\":\"link-primary\"}).div.img[\"src\"]\n",
    "    product['url'] = \"www.sodimac.cl\" + product_div.find(\"a\", {\"class\":\"link-primary\"})['href']\n",
    "    product['time'] = datetime.datetime.now()\n",
    "    \n",
    "    return product\n",
    "\n",
    "def searchProductHomy(search_term):\n",
    "    base_url = \"https://www.sodimac.cl/sodimac-homy/search?Ntt=\" + search_term\n",
    "    url = base_url\n",
    "    products = list()\n",
    "\n",
    "    for page in range(1,1000):\n",
    "        if page > 1:\n",
    "            url = base_url + \"&currentpage=\" + str(page)\n",
    "\n",
    "        print(\"Homy Scrapping: \" + url)\n",
    "\n",
    "        soup = scrap(url)\n",
    "\n",
    "        elements = soup.findAll(\"div\", {\"class\": \"product-wrapper\"})\n",
    "\n",
    "        if len(elements) <= 0:\n",
    "            break\n",
    "    \n",
    "        products.extend([ extractProduct(i) for i in elements])\n",
    "    \n",
    "    return products"
   ]
  },
  {
   "cell_type": "markdown",
   "metadata": {},
   "source": [
    "### Ripley"
   ]
  },
  {
   "cell_type": "code",
   "execution_count": null,
   "metadata": {},
   "outputs": [],
   "source": []
  },
  {
   "cell_type": "markdown",
   "metadata": {},
   "source": [
    "## Main Program"
   ]
  },
  {
   "cell_type": "code",
   "execution_count": 36,
   "metadata": {},
   "outputs": [
    {
     "name": "stdout",
     "output_type": "stream",
     "text": [
      "Homy Scrapping: https://www.sodimac.cl/sodimac-homy/search?Ntt=comoda\n",
      "Homy Scrapping: https://www.sodimac.cl/sodimac-homy/search?Ntt=comoda&currentpage=2\n",
      "Homy Scrapping: https://www.sodimac.cl/sodimac-homy/search?Ntt=comoda&currentpage=3\n",
      "Homy Scrapping: https://www.sodimac.cl/sodimac-homy/search?Ntt=comoda&currentpage=4\n",
      "Homy Scrapping: https://www.sodimac.cl/sodimac-homy/search?Ntt=comoda&currentpage=5\n",
      "Homy Scrapping: https://www.sodimac.cl/sodimac-homy/search?Ntt=comoda&currentpage=6\n",
      "Homy Scrapping: https://www.sodimac.cl/sodimac-homy/search?Ntt=comoda&currentpage=7\n",
      "Homy Scrapping: https://www.sodimac.cl/sodimac-homy/search?Ntt=comoda&currentpage=8\n",
      "Total scraped products:  189\n"
     ]
    }
   ],
   "source": [
    "search_term = \"comoda\"\n",
    "\n",
    "products = searchProductHomy(search_term)\n",
    "    \n",
    "print(\"Total scraped products: \", len(products))"
   ]
  },
  {
   "cell_type": "markdown",
   "metadata": {},
   "source": [
    "## Data Analysis"
   ]
  },
  {
   "cell_type": "code",
   "execution_count": 37,
   "metadata": {},
   "outputs": [
    {
     "name": "stdout",
     "output_type": "stream",
     "text": [
      "Directory C:\\Users\\jquin\\Desktop\\WORKSPACE\\scrap-retail_notebook\\notebooks\n",
      "Duplicated 0\n"
     ]
    },
    {
     "data": {
      "text/html": [
       "<div>\n",
       "<style scoped>\n",
       "    .dataframe tbody tr th:only-of-type {\n",
       "        vertical-align: middle;\n",
       "    }\n",
       "\n",
       "    .dataframe tbody tr th {\n",
       "        vertical-align: top;\n",
       "    }\n",
       "\n",
       "    .dataframe thead th {\n",
       "        text-align: right;\n",
       "    }\n",
       "</style>\n",
       "<table border=\"1\" class=\"dataframe\">\n",
       "  <thead>\n",
       "    <tr style=\"text-align: right;\">\n",
       "      <th></th>\n",
       "      <th>precio-lista</th>\n",
       "      <th>precio-oferta</th>\n",
       "      <th>descuento</th>\n",
       "    </tr>\n",
       "  </thead>\n",
       "  <tbody>\n",
       "    <tr>\n",
       "      <th>count</th>\n",
       "      <td>189.000000</td>\n",
       "      <td>189.000000</td>\n",
       "      <td>189.000000</td>\n",
       "    </tr>\n",
       "    <tr>\n",
       "      <th>mean</th>\n",
       "      <td>165688.730159</td>\n",
       "      <td>155734.444444</td>\n",
       "      <td>4.936508</td>\n",
       "    </tr>\n",
       "    <tr>\n",
       "      <th>std</th>\n",
       "      <td>103964.436240</td>\n",
       "      <td>95569.559241</td>\n",
       "      <td>8.206522</td>\n",
       "    </tr>\n",
       "    <tr>\n",
       "      <th>min</th>\n",
       "      <td>10990.000000</td>\n",
       "      <td>10990.000000</td>\n",
       "      <td>0.000000</td>\n",
       "    </tr>\n",
       "    <tr>\n",
       "      <th>25%</th>\n",
       "      <td>89990.000000</td>\n",
       "      <td>87990.000000</td>\n",
       "      <td>0.000000</td>\n",
       "    </tr>\n",
       "    <tr>\n",
       "      <th>50%</th>\n",
       "      <td>139990.000000</td>\n",
       "      <td>129990.000000</td>\n",
       "      <td>0.000000</td>\n",
       "    </tr>\n",
       "    <tr>\n",
       "      <th>75%</th>\n",
       "      <td>215990.000000</td>\n",
       "      <td>199990.000000</td>\n",
       "      <td>12.000000</td>\n",
       "    </tr>\n",
       "    <tr>\n",
       "      <th>max</th>\n",
       "      <td>680990.000000</td>\n",
       "      <td>680990.000000</td>\n",
       "      <td>26.000000</td>\n",
       "    </tr>\n",
       "  </tbody>\n",
       "</table>\n",
       "</div>"
      ],
      "text/plain": [
       "        precio-lista  precio-oferta   descuento\n",
       "count     189.000000     189.000000  189.000000\n",
       "mean   165688.730159  155734.444444    4.936508\n",
       "std    103964.436240   95569.559241    8.206522\n",
       "min     10990.000000   10990.000000    0.000000\n",
       "25%     89990.000000   87990.000000    0.000000\n",
       "50%    139990.000000  129990.000000    0.000000\n",
       "75%    215990.000000  199990.000000   12.000000\n",
       "max    680990.000000  680990.000000   26.000000"
      ]
     },
     "execution_count": 37,
     "metadata": {},
     "output_type": "execute_result"
    }
   ],
   "source": [
    "\n",
    "# Create a Pandas Excel writer using XlsxWriter as the engine.\n",
    "writer = pd.ExcelWriter(os.getcwd() + '\\pandas_simple.xlsx', engine='xlsxwriter')\n",
    "\n",
    "df = pd.DataFrame(products)\n",
    "print(\"Directory\", os.getcwd())\n",
    "print(\"Duplicated\", df[df.duplicated()].marca.count())\n",
    "df.to_excel(writer)\n",
    "writer.save()\n",
    "df.describe()"
   ]
  },
  {
   "cell_type": "code",
   "execution_count": null,
   "metadata": {},
   "outputs": [],
   "source": []
  },
  {
   "cell_type": "code",
   "execution_count": null,
   "metadata": {},
   "outputs": [],
   "source": []
  }
 ],
 "metadata": {
  "kernelspec": {
   "display_name": "Python 3",
   "language": "python",
   "name": "python3"
  },
  "language_info": {
   "codemirror_mode": {
    "name": "ipython",
    "version": 3
   },
   "file_extension": ".py",
   "mimetype": "text/x-python",
   "name": "python",
   "nbconvert_exporter": "python",
   "pygments_lexer": "ipython3",
   "version": "3.7.6"
  }
 },
 "nbformat": 4,
 "nbformat_minor": 4
}
